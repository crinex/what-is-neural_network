{
  "nbformat": 4,
  "nbformat_minor": 0,
  "metadata": {
    "colab": {
      "name": "Neural_Network2.ipynb",
      "provenance": [],
      "collapsed_sections": [],
      "authorship_tag": "ABX9TyPYDr/IChxPSzIs73tDJKJq",
      "include_colab_link": true
    },
    "kernelspec": {
      "name": "python3",
      "display_name": "Python 3"
    }
  },
  "cells": [
    {
      "cell_type": "markdown",
      "metadata": {
        "id": "view-in-github",
        "colab_type": "text"
      },
      "source": [
        "<a href=\"https://colab.research.google.com/github/crinex/what-is-neural_network/blob/main/Neural_Network2.ipynb\" target=\"_parent\"><img src=\"https://colab.research.google.com/assets/colab-badge.svg\" alt=\"Open In Colab\"/></a>"
      ]
    },
    {
      "cell_type": "markdown",
      "metadata": {
        "id": "EOLSSaBmVT3H"
      },
      "source": [
        "## MNIST \n",
        "- MNIST 데이터는 C언어의 Hello, world 격의 예제이다.\n"
      ]
    },
    {
      "cell_type": "code",
      "metadata": {
        "id": "JK1IYiUfU-tf"
      },
      "source": [
        "from keras.datasets import mnist\n",
        "import numpy as np\n",
        "import matplotlib.pyplot as plt"
      ],
      "execution_count": 1,
      "outputs": []
    },
    {
      "cell_type": "code",
      "metadata": {
        "colab": {
          "base_uri": "https://localhost:8080/"
        },
        "id": "iACVIB-XVoyA",
        "outputId": "b2221342-57d8-499e-9c4f-b82338ca5bfb"
      },
      "source": [
        "(train_images, train_labels), (test_images, test_labels) = mnist.load_data()"
      ],
      "execution_count": 2,
      "outputs": [
        {
          "output_type": "stream",
          "text": [
            "Downloading data from https://storage.googleapis.com/tensorflow/tf-keras-datasets/mnist.npz\n",
            "11493376/11490434 [==============================] - 0s 0us/step\n"
          ],
          "name": "stdout"
        }
      ]
    },
    {
      "cell_type": "markdown",
      "metadata": {
        "id": "GgdvdTZbZt5W"
      },
      "source": [
        "- 학습데이터 : 모델을 학습 시킬때 사용하는 데이터\n",
        "- 훈련데이터 : 모델의 성능을 확인할때 사용하는 데이터"
      ]
    },
    {
      "cell_type": "markdown",
      "metadata": {
        "id": "i5wLNGLSZ5_i"
      },
      "source": [
        "### Data Visualization\n",
        "- 입력 데이터 확인"
      ]
    },
    {
      "cell_type": "code",
      "metadata": {
        "colab": {
          "base_uri": "https://localhost:8080/"
        },
        "id": "QiG5DTQTYX_3",
        "outputId": "e0b39ebe-0b2f-48e0-ac75-c8683a495a27"
      },
      "source": [
        "print('train_images shape is ', train_images.shape)"
      ],
      "execution_count": 3,
      "outputs": [
        {
          "output_type": "stream",
          "text": [
            "train_images shape is  (60000, 28, 28)\n"
          ],
          "name": "stdout"
        }
      ]
    },
    {
      "cell_type": "markdown",
      "metadata": {
        "id": "qIx9QdT9aH6H"
      },
      "source": [
        "- batch_size : 60000개\n",
        "- input_demention : 28x28 "
      ]
    },
    {
      "cell_type": "code",
      "metadata": {
        "colab": {
          "base_uri": "https://localhost:8080/",
          "height": 226
        },
        "id": "z80QBvYZaFjd",
        "outputId": "1d7380c6-819c-4fb7-9310-0faf876c5ded"
      },
      "source": [
        "pick_image = 0 # 0 ~ 59999\n",
        "\n",
        "plt.figure(figsize=(8,3))\n",
        "plt.subplot(1,2,1)\n",
        "# 이미지(image) 확인\n",
        "plt.imshow(train_images[pick_image], cmap='gray')\n",
        "plt.colorbar()\n",
        "plt.xlabel('image of {}'.format(train_labels[pick_image]))\n",
        "plt.subplot(1,2,2)\n",
        "# 픽셀(pixel)값 분포\n",
        "plt.plot(train_images[0].flatten())\n",
        "plt.xlabel('x')\n",
        "plt.show()"
      ],
      "execution_count": 7,
      "outputs": [
        {
          "output_type": "display_data",
          "data": {
            "image/png": "[encoded data removed]",
            "text/plain": [
              "<Figure size 576x216 with 3 Axes>"
            ]
          },
          "metadata": {
            "tags": [],
            "needs_background": "light"
          }
        }
      ]
    },
    {
      "cell_type": "markdown",
      "metadata": {
        "id": "0IXkWGPucT8C"
      },
      "source": [
        "- 출력 데이터 확인"
      ]
    },
    {
      "cell_type": "code",
      "metadata": {
        "colab": {
          "base_uri": "https://localhost:8080/"
        },
        "id": "KG8YE8Cga7v2",
        "outputId": "a43e8c34-82bd-4426-e491-08f929011fa7"
      },
      "source": [
        "print('train_labels shape is', train_labels.shape)"
      ],
      "execution_count": 8,
      "outputs": [
        {
          "output_type": "stream",
          "text": [
            "train_labels shape is (60000,)\n"
          ],
          "name": "stdout"
        }
      ]
    },
    {
      "cell_type": "markdown",
      "metadata": {
        "id": "QNSUFAt5cecD"
      },
      "source": [
        "- batch_size : 60000\n",
        "- input_demention : 1"
      ]
    },
    {
      "cell_type": "markdown",
      "metadata": {
        "id": "fAugmU-Ecj0X"
      },
      "source": [
        "- 이미지 픽셀값(28x28)784개를 입력변수로 사용하고 숫자값(0~9) 10개를 출력변수로 사용한다."
      ]
    },
    {
      "cell_type": "markdown",
      "metadata": {
        "id": "96WtzVZtcxeZ"
      },
      "source": [
        "## Data Transform\n",
        "- 벡터화(Flatten) : 입력 데이터의 2D shape를 1D(784,)로 변환해준다."
      ]
    },
    {
      "cell_type": "code",
      "metadata": {
        "colab": {
          "base_uri": "https://localhost:8080/"
        },
        "id": "QnD9F8t1cb6p",
        "outputId": "fc2ddc54-5a00-4dc0-8079-e08896ccef7a"
      },
      "source": [
        "batch_size = train_images.shape[0]\n",
        "input_dim = train_images.shape[1] * train_images.shape[2]\n",
        "X_train = np.reshape(train_images, (batch_size, input_dim))\n",
        "print(X_train.shape)\n",
        "\n",
        "batch_size = test_images.shape[0]\n",
        "input_dim = test_images.shape[1] * test_images.shape[2]\n",
        "X_test = np.reshape(test_images, (batch_size, input_dim))\n",
        "print(X_test.shape)"
      ],
      "execution_count": 9,
      "outputs": [
        {
          "output_type": "stream",
          "text": [
            "(60000, 784)\n",
            "(10000, 784)\n"
          ],
          "name": "stdout"
        }
      ]
    },
    {
      "cell_type": "code",
      "metadata": {
        "id": "DIXAW0daeSmq"
      },
      "source": [
        "from keras.utils import to_categorical"
      ],
      "execution_count": 10,
      "outputs": []
    },
    {
      "cell_type": "code",
      "metadata": {
        "colab": {
          "base_uri": "https://localhost:8080/"
        },
        "id": "V8raqxoGeWiH",
        "outputId": "0294b909-5486-4785-f31c-6deedfdd1eac"
      },
      "source": [
        "Y_train = to_categorical(train_labels)\n",
        "Y_test = to_categorical(test_labels)\n",
        "print('Y_train.shape is', Y_train.shape)\n",
        "print('Y_test.shape is', Y_test.shape)"
      ],
      "execution_count": 11,
      "outputs": [
        {
          "output_type": "stream",
          "text": [
            "Y_train.shape is (60000, 10)\n",
            "Y_test.shape is (10000, 10)\n"
          ],
          "name": "stdout"
        }
      ]
    },
    {
      "cell_type": "code",
      "metadata": {
        "colab": {
          "base_uri": "https://localhost:8080/"
        },
        "id": "Hcby-EHIelHo",
        "outputId": "5fa8d6e3-c5c3-48e3-c05d-d74b5dc1c6f1"
      },
      "source": [
        "Y_train[0]"
      ],
      "execution_count": 13,
      "outputs": [
        {
          "output_type": "execute_result",
          "data": {
            "text/plain": [
              "array([0., 0., 0., 0., 0., 1., 0., 0., 0., 0.], dtype=float32)"
            ]
          },
          "metadata": {
            "tags": []
          },
          "execution_count": 13
        }
      ]
    },
    {
      "cell_type": "markdown",
      "metadata": {
        "id": "yU4QV8hlexY1"
      },
      "source": [
        "## Neural Network Modeling\n",
        "- 우선 3-Layer로 만들어보자\n",
        "1. 데이터 변환\n",
        "\n",
        "  - 입력 데이터의 형식과 모양을 변환 2D -> 1D\n",
        "  - 출력 데이터의 형식과 모양을 변환 One-Hot Encoding\n",
        "2. 히든 레이어 정의\n",
        "\n",
        "  - 히든 레이어의 개수를 정한다. 여기서는 2-히든 레이어 사용\n",
        "  - 히든 레이어의 유닛수를 정한다. 여기서는 128개, 84개 사용\n",
        "  - 활성함수를 정의한다. 여기서는 ReLU 사용\n",
        "\n",
        "3. 출력 레이어 정의\n",
        "\n",
        "  - 출력 레이어의 유닛 개수를 정의한다. 여기서는 10개의 클래스를 분류해야하니 10개 유닛사용\n",
        "  - 활성함수를 정의한다, 여기서는 softmax 사용\n",
        "\n",
        "4. 손실함수 정의\n",
        "\n",
        "  - cross-entropy를 사용한다.\n",
        "5. 옵티마이저를 정의한다.\n",
        "\n",
        "  - adam을 사용한다.\n",
        "\n",
        "6. 학습 횟수를 설정한다.\n",
        "7. 주어진 조건으로 모델을 최적화 한다.\n"
      ]
    },
    {
      "cell_type": "markdown",
      "metadata": {
        "id": "hq2erFe-grfr"
      },
      "source": [
        "### ReLU(Rectified Linear Unit)\n",
        "- a = max(0, z)\n",
        "- sigmoid 함수는 이진분류 모델에 적합한 함수다. \n",
        "- relu 함수는 0보다 작은 값은 0으로 반환하고 0보다 큰값은 그대로 반환해준다.\n",
        "- 따라서 히든레이어에서는 relu로 활성화함수를 사용하고 마지막 출력 레이어에서 sigmoid를 사용하는것이 좋다."
      ]
    },
    {
      "cell_type": "markdown",
      "metadata": {
        "id": "Yxwc-eBshegQ"
      },
      "source": [
        "### Adam(Adaptiva moment estimation)\n",
        "- 빠르고 부드럽게 최소값을 찾아간다.\n",
        "- 그냥 사용하자"
      ]
    },
    {
      "cell_type": "markdown",
      "metadata": {
        "id": "LtRwN7Auhyj0"
      },
      "source": [
        "### Modeling"
      ]
    },
    {
      "cell_type": "code",
      "metadata": {
        "id": "xpd-mpwcepK_"
      },
      "source": [
        "X_train = X_train / 255.0\n",
        "X_test = X_test / 255.0"
      ],
      "execution_count": 15,
      "outputs": []
    },
    {
      "cell_type": "code",
      "metadata": {
        "id": "bfn_uBjfiHzN"
      },
      "source": [
        "from keras import Sequential\n",
        "from keras.layers import Dense, Flatten"
      ],
      "execution_count": 17,
      "outputs": []
    },
    {
      "cell_type": "code",
      "metadata": {
        "id": "X_6p1dvJiU56"
      },
      "source": [
        "model = Sequential()"
      ],
      "execution_count": 18,
      "outputs": []
    },
    {
      "cell_type": "code",
      "metadata": {
        "id": "0mdr14l8ibqg"
      },
      "source": [
        "model.add(Dense(128, input_shape=(784,), activation='relu'))\n",
        "model.add(Dense(84, activation='relu'))\n",
        "model.add(Dense(10, activation='softmax'))\n",
        "model.compile(\n",
        "    loss='categorical_crossentropy',\n",
        "    optimizer='adam',\n",
        "    metrics=['accuracy']\n",
        ")"
      ],
      "execution_count": 19,
      "outputs": []
    },
    {
      "cell_type": "code",
      "metadata": {
        "id": "sAKHSx4IjJCv"
      },
      "source": [
        "hist = model.fit(X_train, Y_train, epochs=20, verbose=0)"
      ],
      "execution_count": 20,
      "outputs": []
    },
    {
      "cell_type": "code",
      "metadata": {
        "colab": {
          "base_uri": "https://localhost:8080/"
        },
        "id": "t4oauuf1jRJh",
        "outputId": "340c0c05-7e3e-4e25-d61b-1dbecb13ea62"
      },
      "source": [
        "train_acc = hist.history['accuracy'][-1]\n",
        "train_loss = hist.history['loss'][-1]\n",
        "\n",
        "print('train_acc :', train_acc)\n",
        "print('train_loss :', train_loss)"
      ],
      "execution_count": 26,
      "outputs": [
        {
          "output_type": "stream",
          "text": [
            "train_acc : 0.978683352470398\n",
            "train_loss : 0.06824558228254318\n"
          ],
          "name": "stdout"
        }
      ]
    },
    {
      "cell_type": "code",
      "metadata": {
        "colab": {
          "base_uri": "https://localhost:8080/",
          "height": 279
        },
        "id": "gCpR9sjDjs1t",
        "outputId": "2947a312-6cea-4478-c8b1-682c2149afc5"
      },
      "source": [
        "plt.plot(hist.history['loss'])\n",
        "plt.xlabel('epochs')\n",
        "plt.ylabel('loss')\n",
        "plt.show()"
      ],
      "execution_count": 27,
      "outputs": [
        {
          "output_type": "display_data",
          "data": {
            "image/png": "[encoded data removed]",
            "text/plain": [
              "<Figure size 432x288 with 1 Axes>"
            ]
          },
          "metadata": {
            "tags": [],
            "needs_background": "light"
          }
        }
      ]
    },
    {
      "cell_type": "code",
      "metadata": {
        "colab": {
          "base_uri": "https://localhost:8080/"
        },
        "id": "7IEyhOVTkZ4k",
        "outputId": "bb39a06b-550e-4428-9479-a2c32679754d"
      },
      "source": [
        "test_loss, test_acc = model.evaluate(X_test, Y_test)\n",
        "\n",
        "print('Test Accuracy : ', test_acc)\n",
        "print('Test Loss : ', test_loss)"
      ],
      "execution_count": 28,
      "outputs": [
        {
          "output_type": "stream",
          "text": [
            "313/313 [==============================] - 1s 1ms/step - loss: 29.2278 - accuracy: 0.9221\n",
            "Test Accuracy :  0.9221000075340271\n",
            "Test Loss :  29.22779083251953\n"
          ],
          "name": "stdout"
        }
      ]
    },
    {
      "cell_type": "markdown",
      "metadata": {
        "id": "M0Hj2l75k49e"
      },
      "source": [
        " - 훈련 정확도와 테스트 정확도가 차이가 난다. 이런 경우 과적합 현상이 일어났다고 볼 수 있다.\n",
        " - 과적합을 해결하기 위해서 규제, 드롭아웃 방법이 있다.\n",
        " - 규제는 가중치의 역할을 줄여 줌으로서 모델을 약간 바보로 만들어 준다."
      ]
    },
    {
      "cell_type": "code",
      "metadata": {
        "colab": {
          "base_uri": "https://localhost:8080/"
        },
        "id": "HvNoJX2Dkqip",
        "outputId": "ee66e3f5-e548-4a94-d110-69191444e9d5"
      },
      "source": [
        "from tensorflow.keras import regularizers\n",
        "\n",
        "model_l2 = Sequential()\n",
        "model_l2.add(Dense(128, input_shape=(784,), kernel_regularizer=regularizers.l2(0.0001), activation='relu'))\n",
        "model_l2.add(Dense(84, kernel_regularizer=regularizers.l2(0.0001), activation='relu'))\n",
        "model_l2.add(Dense(10, activation='softmax'))\n",
        "model_l2.compile(loss='categorical_crossentropy', optimizer='adam', metrics=['accuracy'])\n",
        "\n",
        "hist = model_l2.fit(X_train, Y_train, epochs=20, verbose=0)\n",
        "train_acc_l2 = hist.history['accuracy'][-1]\n",
        "train_loss_l2 =  hist.history['loss'][-1]\n",
        "\n",
        "print('train accuracy: ', train_acc_l2)\n",
        "print('train loss: ', train_loss_l2)"
      ],
      "execution_count": 30,
      "outputs": [
        {
          "output_type": "stream",
          "text": [
            "train accuracy:  0.9466166496276855\n",
            "train loss:  0.3279263973236084\n"
          ],
          "name": "stdout"
        }
      ]
    },
    {
      "cell_type": "code",
      "metadata": {
        "colab": {
          "base_uri": "https://localhost:8080/"
        },
        "id": "gj1hlegblVXR",
        "outputId": "5b5db7f9-507d-4c67-d87e-96eb71754709"
      },
      "source": [
        "test_loss_l2, test_acc_l2 = model_l2.evaluate(X_test, Y_test)\n",
        "\n",
        "print('Test Accuracy :', test_acc_l2)\n",
        "print('Test Loss :', test_loss_l2)"
      ],
      "execution_count": 31,
      "outputs": [
        {
          "output_type": "stream",
          "text": [
            "313/313 [==============================] - 1s 1ms/step - loss: 18.0709 - accuracy: 0.8853\n",
            "Test Accuracy : 0.8852999806404114\n",
            "Test Loss : 18.070852279663086\n"
          ],
          "name": "stdout"
        }
      ]
    },
    {
      "cell_type": "code",
      "metadata": {
        "colab": {
          "base_uri": "https://localhost:8080/",
          "height": 111
        },
        "id": "bAvdinYLmCDJ",
        "outputId": "cee9d622-7e17-4f79-c6db-07c4b9ae79ad"
      },
      "source": [
        "import pandas as pd\n",
        "\n",
        "df = pd.DataFrame(data=[[train_acc, test_acc], [train_acc_l2, test_acc_l2]],\n",
        "                  index=['model', 'model_l2'],\n",
        "                  columns=['train accuracy', 'test accuracy'])\n",
        "df"
      ],
      "execution_count": 32,
      "outputs": [
        {
          "output_type": "execute_result",
          "data": {
            "text/html": [
              "<div>\n",
              "<style scoped>\n",
              "    .dataframe tbody tr th:only-of-type {\n",
              "        vertical-align: middle;\n",
              "    }\n",
              "\n",
              "    .dataframe tbody tr th {\n",
              "        vertical-align: top;\n",
              "    }\n",
              "\n",
              "    .dataframe thead th {\n",
              "        text-align: right;\n",
              "    }\n",
              "</style>\n",
              "<table border=\"1\" class=\"dataframe\">\n",
              "  <thead>\n",
              "    <tr style=\"text-align: right;\">\n",
              "      <th></th>\n",
              "      <th>train accuracy</th>\n",
              "      <th>test accuracy</th>\n",
              "    </tr>\n",
              "  </thead>\n",
              "  <tbody>\n",
              "    <tr>\n",
              "      <th>model</th>\n",
              "      <td>0.978683</td>\n",
              "      <td>0.9221</td>\n",
              "    </tr>\n",
              "    <tr>\n",
              "      <th>model_l2</th>\n",
              "      <td>0.946617</td>\n",
              "      <td>0.8853</td>\n",
              "    </tr>\n",
              "  </tbody>\n",
              "</table>\n",
              "</div>"
            ],
            "text/plain": [
              "          train accuracy  test accuracy\n",
              "model           0.978683         0.9221\n",
              "model_l2        0.946617         0.8853"
            ]
          },
          "metadata": {
            "tags": []
          },
          "execution_count": 32
        }
      ]
    },
    {
      "cell_type": "code",
      "metadata": {
        "colab": {
          "base_uri": "https://localhost:8080/",
          "height": 270
        },
        "id": "W4Bg39Y4mahu",
        "outputId": "781101a7-4e95-4122-bd5a-22fb56f8ae36"
      },
      "source": [
        "pick_image = 10 # 0 ~ 9999\n",
        "\n",
        "def predict_handwrittendigits(x):\n",
        "    x_data = np.reshape(x, (1, 784))\n",
        "    predict = model_l2.predict(x_data)\n",
        "    return np.argmax(predict)\n",
        "\n",
        "test_data = test_images[pick_image]\n",
        "result = predict_handwrittendigits(test_data)\n",
        "\n",
        "plt.imshow(test_data, cmap='gray')\n",
        "plt.xticks([])\n",
        "plt.yticks([])\n",
        "plt.show()\n",
        "print('predicted digit is ', result)"
      ],
      "execution_count": 33,
      "outputs": [
        {
          "output_type": "display_data",
          "data": {
            "image/png": "[encoded data removed]",
            "text/plain": [
              "<Figure size 432x288 with 1 Axes>"
            ]
          },
          "metadata": {
            "tags": []
          }
        },
        {
          "output_type": "stream",
          "text": [
            "predicted digit is  0\n"
          ],
          "name": "stdout"
        }
      ]
    },
    {
      "cell_type": "code",
      "metadata": {
        "id": "1HSeFpUPmg5m"
      },
      "source": [
        ""
      ],
      "execution_count": null,
      "outputs": []
    }
  ]
}